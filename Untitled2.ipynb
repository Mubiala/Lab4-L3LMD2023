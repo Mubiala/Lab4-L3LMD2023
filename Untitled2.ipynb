{
 "cells": [
  {
   "cell_type": "code",
   "execution_count": 1,
   "metadata": {},
   "outputs": [
    {
     "name": "stdout",
     "output_type": "stream",
     "text": [
      "entrer la chaine à hacher:junior\n",
      "8fdd880f097cddfef86895d2c48f649e943bed14639f0ad29671508b536c9fc1\n"
     ]
    }
   ],
   "source": [
    "import hashlib\n",
    "#demander à l'utilisateur d'entrer sa chaine à hacher\n",
    "data=input(\"entrer la chaine à hacher:\")\n",
    "\n",
    "#création de l'objet de hachage\n",
    "hash_object=hashlib.sha256(data.encode())\n",
    "\n",
    "#calcul du hachage\n",
    "hash_hex=hash_object.hexdigest()\n",
    "\n",
    "#affichage\n",
    "print(hash_hex)"
   ]
  },
  {
   "cell_type": "code",
   "execution_count": null,
   "metadata": {},
   "outputs": [],
   "source": []
  },
  {
   "cell_type": "code",
   "execution_count": null,
   "metadata": {},
   "outputs": [],
   "source": []
  }
 ],
 "metadata": {
  "kernelspec": {
   "display_name": "Python 3",
   "language": "python",
   "name": "python3"
  },
  "language_info": {
   "codemirror_mode": {
    "name": "ipython",
    "version": 3
   },
   "file_extension": ".py",
   "mimetype": "text/x-python",
   "name": "python",
   "nbconvert_exporter": "python",
   "pygments_lexer": "ipython3",
   "version": "3.8.5"
  }
 },
 "nbformat": 4,
 "nbformat_minor": 4
}
